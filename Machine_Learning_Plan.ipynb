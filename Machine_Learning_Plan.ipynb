{
  "nbformat": 4,
  "nbformat_minor": 0,
  "metadata": {
    "colab": {
      "name": "Machine Learning Plan.ipynb",
      "version": "0.3.2",
      "provenance": [],
      "include_colab_link": true
    },
    "kernelspec": {
      "name": "python3",
      "display_name": "Python 3"
    }
  },
  "cells": [
    {
      "cell_type": "markdown",
      "metadata": {
        "id": "view-in-github",
        "colab_type": "text"
      },
      "source": [
        "<a href=\"https://colab.research.google.com/github/ccloveak/Machine_Learning/blob/master/Machine_Learning_Plan.ipynb\" target=\"_parent\"><img src=\"https://colab.research.google.com/assets/colab-badge.svg\" alt=\"Open In Colab\"/></a>"
      ]
    },
    {
      "cell_type": "markdown",
      "metadata": {
        "id": "aFBMhItKam-j",
        "colab_type": "text"
      },
      "source": [
        "##Machine Learning\n",
        "\n",
        ">https://www.coursera.org/learn/machine-learning"
      ]
    },
    {
      "cell_type": "markdown",
      "metadata": {
        "id": "FLadntqpbcpg",
        "colab_type": "text"
      },
      "source": [
        "##Introduction to Data Science in Python\n",
        ">https://www.coursera.org/learn/python-data-analysis"
      ]
    },
    {
      "cell_type": "markdown",
      "metadata": {
        "id": "eEIxuWhVbcwJ",
        "colab_type": "text"
      },
      "source": [
        "## Applied Plotting, Charting & Data Representation in Python\n",
        "> https://www.coursera.org/learn/python-plotting"
      ]
    },
    {
      "cell_type": "markdown",
      "metadata": {
        "id": "Ah3FSlucbc0X",
        "colab_type": "text"
      },
      "source": [
        "##Applied Machine Learning in Python\n",
        ">https://www.coursera.org/learn/python-machine-learning"
      ]
    },
    {
      "cell_type": "markdown",
      "metadata": {
        "id": "7D1dBd6Zbc-n",
        "colab_type": "text"
      },
      "source": [
        "## Applied Text Mining in Python\n",
        ">https://www.coursera.org/learn/python-text-mining"
      ]
    },
    {
      "cell_type": "markdown",
      "metadata": {
        "id": "xx3w3_94bdGV",
        "colab_type": "text"
      },
      "source": [
        "## Applied Social Network Analysis in Python\n",
        ">https://www.coursera.org/learn/python-social-network-analysis"
      ]
    }
  ]
}
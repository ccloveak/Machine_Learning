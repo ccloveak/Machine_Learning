{
  "nbformat": 4,
  "nbformat_minor": 0,
  "metadata": {
    "colab": {
      "name": "Machine Learning Study Note.ipynb",
      "version": "0.3.2",
      "provenance": [],
      "collapsed_sections": [
        "WDEm3xaPBIlR",
        "hJdTYb6oBIoK"
      ],
      "include_colab_link": true
    },
    "kernelspec": {
      "name": "python3",
      "display_name": "Python 3"
    },
    "accelerator": "GPU"
  },
  "cells": [
    {
      "cell_type": "markdown",
      "metadata": {
        "id": "view-in-github",
        "colab_type": "text"
      },
      "source": [
        "<a href=\"https://colab.research.google.com/github/ccloveak/Machine_Learning/blob/master/Machine_Learning_Study_Note.ipynb\" target=\"_parent\"><img src=\"https://colab.research.google.com/assets/colab-badge.svg\" alt=\"Open In Colab\"/></a>"
      ]
    },
    {
      "cell_type": "markdown",
      "metadata": {
        "id": "s3KlMX2KA_UP",
        "colab_type": "text"
      },
      "source": [
        "#[ Coursera](https://www.coursera.org/learn/machine-learning/home/welcome)\n",
        "\n",
        "<script src='https://cdnjs.cloudflare.com/ajax/libs/mathjax/2.7.5/MathJax.js?config=TeX-MML-AM_CHTML' async></script>\n"
      ]
    },
    {
      "cell_type": "markdown",
      "metadata": {
        "id": "67t7HuchBIMq",
        "colab_type": "text"
      },
      "source": [
        "##Week 1"
      ]
    },
    {
      "cell_type": "markdown",
      "metadata": {
        "id": "WDEm3xaPBIlR",
        "colab_type": "text"
      },
      "source": [
        "### Introduction"
      ]
    },
    {
      "cell_type": "markdown",
      "metadata": {
        "id": "B7OtSswqG-Gi",
        "colab_type": "text"
      },
      "source": [
        "#### Machine Learning\n",
        "\n",
        "\n",
        "*   The field of study that give computers the ability to learn without being explicitly programmed.\n",
        "*   A computer program is said to learn from experience E with respect to some class of tasks T and performance measure P, if its performance at tasks in T, as measured by P, improves with experience E.\n",
        "\n"
      ]
    },
    {
      "cell_type": "markdown",
      "metadata": {
        "id": "xUMzAq_gBIV-",
        "colab_type": "text"
      },
      "source": [
        "#### Supervised Learning\n",
        "\n",
        "\n",
        "*   In supervised learning, we are given a data set and already know what our correct output should look like, having the idea that there is a relationship between the input and the output.\n",
        "*   upervised learning problems are categorized into \"regression\" and \"classification\" problems. In a regression problem, we are trying to predict results within a continuous output, meaning that we are trying to map input variables to some continuous function. In a classification problem, we are instead trying to predict results in a discrete output. In other words, we are trying to map input variables into discrete categories.\n",
        "\n"
      ]
    },
    {
      "cell_type": "markdown",
      "metadata": {
        "id": "hVSLs1IbBIYy",
        "colab_type": "text"
      },
      "source": [
        "#### Unsupervised Learning\n",
        "\n",
        "*   Unsupervised learning allows us to approach problems with little or no idea what our results should look like. We can derive structure from data where we don't necessarily know the effect of the variables.\n",
        "\n",
        "*   We can derive this structure by clustering the data based on relationships among the variables in the data.\n",
        "\n",
        "*   With unsupervised learning there is no feedback based on the prediction results.\n",
        "\n",
        "\n",
        "\n"
      ]
    },
    {
      "cell_type": "markdown",
      "metadata": {
        "id": "hJdTYb6oBIoK",
        "colab_type": "text"
      },
      "source": [
        "### Model and Cost Function"
      ]
    },
    {
      "cell_type": "markdown",
      "metadata": {
        "id": "3YZD3ohJIG8C",
        "colab_type": "text"
      },
      "source": [
        "#### Model Representation\n",
        "\n",
        "*   h hypothesis\n",
        "*   To describe the supervised learning problem slightly more formally, our goal is, given a training set, to learn a function h : X → Y so that h(x) is a “good” predictor for the corresponding value of y. For historical reasons, this function h is called a hypothesis. Seen pictorially, the process is therefore like this:\n",
        "\n",
        "![the process of h(x)](https://d3c33hcgiwev3.cloudfront.net/imageAssetProxy.v1/H6qTdZmYEeaagxL7xdFKxA_2f0f671110e8f7446bb2b5b2f75a8874_Screenshot-2016-10-23-20.14.58.png?expiry=1560211200000&hmac=7LdVRh73P0Z7ZEX7gaBU4vqunmFJtQaxxWWW-nyTsh8)\n",
        "\n"
      ]
    },
    {
      "cell_type": "markdown",
      "metadata": {
        "id": "SzNV2c4XMcYK",
        "colab_type": "text"
      },
      "source": [
        "#### Cost Function\n",
        "*  We can measure the accuracy of our hypothesis function by using a cost function. This takes an average difference (actually a fancier version of an average) of all the results of the hypothesis with inputs from x's and the actual output y's.\n",
        "\n",
        "*   $ J(\\theta_0, \\theta_1) = \\dfrac {1}{2m} \\displaystyle \\sum _{i=1}^m \\left ( \\hat{y}_{i}- y_{i} \\right)^2 = \\dfrac {1}{2m} \\displaystyle \\sum _{i=1}^m \\left (h_\\theta (x_{i}) - y_{i} \\right)^2 $\n",
        "\n",
        "\n",
        "\n",
        "* Idea: Choose  $ \\theta_0 $,$ \\theta_1 $ so that $ h_\\theta (x) $ is close to  y for our \n",
        "training examples( x , y )"
      ]
    },
    {
      "cell_type": "markdown",
      "metadata": {
        "id": "FYz7hTb6XZDp",
        "colab_type": "text"
      },
      "source": [
        "### Parameter Learning"
      ]
    },
    {
      "cell_type": "markdown",
      "metadata": {
        "id": "a9Kzd8lYYBJi",
        "colab_type": "text"
      },
      "source": [
        "#### Gradient Descent\n",
        "\n",
        "*   So we have our hypothesis function and we have a way of measuring how well it fits into the data. Now we need to estimate the parameters in the hypothesis function. That's where gradient descent comes in.\n",
        "*   The gradient descent algorithm is: repeat until convergence:\n",
        "$\\theta_j := \\theta_j - \\alpha \\frac{\\partial}{\\partial \\theta_j} J(\\theta_0, \\theta_1)$  \n",
        "where j=0,1 represents the feature index number.\n",
        "*   At each iteration j, one should simultaneously update the parameters $ \\theta_1, \\theta_2,...,\\theta_nθ $\n",
        "Updating a specific parameter prior to calculating another one on the $ j^{(th)}$\n",
        "  iteration would yield to a wrong implementation.\n"
      ]
    },
    {
      "cell_type": "markdown",
      "metadata": {
        "id": "Wfp6mWMGa_hy",
        "colab_type": "text"
      },
      "source": [
        "#### Gradient Descent Intuition\n",
        "\n",
        "*    Our formula for a single parameter was :  \n",
        "Repeat until convergence:  \n",
        "$\\theta_1:=\\theta_1-\\alpha \\frac{d}{d\\theta_1} J(\\theta_1)$\n",
        "\n",
        "*   we should adjust our parameter $\\alpha$ to ensure that the gradient descent algorithm converges in a reasonable time. Failure to converge or too much time to obtain the minimum value imply that our step size is wrong.\n",
        "\n",
        "*   How does gradient descent converge with a fixed step size $\\alpha$?  \n",
        " $\\theta_1:=\\theta_1-\\alpha * 0$\n",
        "\n"
      ]
    },
    {
      "cell_type": "markdown",
      "metadata": {
        "id": "j1olL8WEeK0N",
        "colab_type": "text"
      },
      "source": [
        "#### Gradient Descent For Linear Regression\n",
        "\n",
        "*   We can substitute our actual cost function and our actual hypothesis function and modify the equation to :  \n",
        "\n",
        "$\\begin{align*} \\text{repeat until convergence: } \\lbrace & \\newline \\theta_0 := & \\theta_0 - \\alpha \\frac{1}{m} \\sum\\limits_{i=1}^{m}(h_\\theta(x_{i}) - y_{i}) \\newline \\theta_1 := & \\theta_1 - \\alpha \\frac{1}{m} \\sum\\limits_{i=1}^{m}\\left((h_\\theta(x_{i}) - y_{i}) x_{i}\\right) \\newline \\rbrace& \\end{align*}$\n",
        "\n",
        "\n",
        "*    The following is a derivation of $\\frac {\\partial}{\\partial \\theta_j}J(\\theta)$for a single example :  \n",
        "![a single example](https://d3c33hcgiwev3.cloudfront.net/imageAssetProxy.v1/QFpooaaaEea7TQ6MHcgMPA_cc3c276df7991b1072b2afb142a78da1_Screenshot-2016-11-09-08.30.54.png?expiry=1560211200000&hmac=jqHM2P7su6HkaXyHSffcGTcORRNZO3wEx6r9SKBuf-s)\n",
        "\n"
      ]
    },
    {
      "cell_type": "markdown",
      "metadata": {
        "id": "wEWTbV4sgKFT",
        "colab_type": "text"
      },
      "source": [
        "### Linear Algera"
      ]
    },
    {
      "cell_type": "markdown",
      "metadata": {
        "id": "3Ve-_DkQoAOE",
        "colab_type": "text"
      },
      "source": [
        "#### Matrices and Vectors\n",
        "\n",
        "* $A_{ij}$  refers to the element in the i th row and j th column of matrix A.\n",
        "\n",
        "*   A vector with 'n' rows is referred to as an 'n'-dimensional vector.\n",
        "\n",
        "*   $v_i$ refers to the element in the i th row of the vector.\n",
        "\n",
        "*   In general, all our vectors and matrices will be 1-indexed. Note that for some programming languages, the arrays are 0-indexed.\n",
        "\n",
        "*   Matrices are usually denoted by uppercase names while vectors are lowercase.\n",
        "\n",
        "\n",
        "*   \"Scalar\" means that an object is a single value, not a vector or matrix.\n",
        "\n",
        "\n",
        "*   ℝ refers to the set of scalar real numbers.\n",
        "\n",
        "\n",
        "*  $ℝ_𝕟$ refers to the set of n-dimensional vectors of real numbers.\n",
        "\n",
        "\n"
      ]
    },
    {
      "cell_type": "markdown",
      "metadata": {
        "id": "pfSEfVEerE6v",
        "colab_type": "text"
      },
      "source": [
        "#### Addition and Scalar Multiplication\n",
        "\n",
        "*   $\\begin{bmatrix} a & b \\newline c & d \\newline \\end{bmatrix} +\\begin{bmatrix} w & x \\newline y & z \\newline \\end{bmatrix} =\\begin{bmatrix} a+w & b+x \\newline c+y & d+z \\newline \\end{bmatrix}$\n",
        "*   $\\begin{bmatrix} a & b \\newline c & d \\newline \\end{bmatrix} - \\begin{bmatrix} w & x \\newline y & z \\newline \\end{bmatrix} =\\begin{bmatrix} a-w & b-x \\newline c-y & d-z \\newline \\end{bmatrix}$\n",
        "*   $\\begin{bmatrix} a & b \\newline c & d \\newline \\end{bmatrix} * x =\\begin{bmatrix} a*x & b*x \\newline c*x & d*x \\newline \\end{bmatrix}$\n",
        "*   $\\begin{bmatrix} a & b \\newline c & d \\newline \\end{bmatrix} / x =\\begin{bmatrix} a /x & b/x \\newline c /x & d /x \\newline \\end{bmatrix}$\n",
        "\n",
        "\n",
        "\n"
      ]
    },
    {
      "cell_type": "markdown",
      "metadata": {
        "id": "g1r37y1RrqJD",
        "colab_type": "text"
      },
      "source": [
        "#### Matrix-Vector Multiplication\n",
        "\n",
        "* $  \\begin{bmatrix} a & b \\newline c & d \\newline e & f \\end{bmatrix} *\\begin{bmatrix} x \\newline y \\newline \\end{bmatrix} =\\begin{bmatrix} a*x + b*y \\newline c*x + d*y \\newline e*x + f*y\\end{bmatrix} $\n",
        "\n"
      ]
    },
    {
      "cell_type": "markdown",
      "metadata": {
        "id": "sT8VbgE4r5Ku",
        "colab_type": "text"
      },
      "source": [
        "#### Matrix-Matrix Multiplication\n",
        "\n",
        "*   $\\begin{bmatrix} a & b \\newline c & d \\newline e & f \\end{bmatrix} *\\begin{bmatrix} w & x \\newline y & z \\newline \\end{bmatrix} =\\begin{bmatrix} a*w + b*y & a*x + b*z \\newline c*w + d*y & c*x + d*z \\newline e*w + f*y & e*x + f*z\\end{bmatrix}$\n",
        "\n"
      ]
    },
    {
      "cell_type": "markdown",
      "metadata": {
        "id": "5b6pP2_AsD5P",
        "colab_type": "text"
      },
      "source": [
        "#### Matrix Multiplication Properties\n",
        "\n",
        "*   Matrices are not commutative: A∗B≠B∗A\n",
        "*   Matrices are associative: (A∗B)∗C=A∗(B∗C)\n",
        "\n"
      ]
    },
    {
      "cell_type": "markdown",
      "metadata": {
        "id": "lH651g0LsSEW",
        "colab_type": "text"
      },
      "source": [
        "#### Inverse and Transpose\n",
        "\n",
        "\n",
        "*   The transposition of a matrix is like rotating the matrix 90° in clockwise direction and then reversing it. We can compute transposition of matrices in matlab with the transpose(A) function or A':\n",
        "*   $A = \\begin{bmatrix} a & b \\newline c & d \\newline e & f \\end{bmatrix}$\n",
        "\n",
        "*   $A^T = \\begin{bmatrix} a & c & e \\newline b & d & f \\newline \\end{bmatrix}$\n",
        "\n",
        "\n",
        "\n",
        "\n"
      ]
    }
  ]
}